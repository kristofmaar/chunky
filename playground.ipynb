{
 "cells": [
  {
   "cell_type": "code",
   "execution_count": null,
   "metadata": {},
   "outputs": [],
   "source": [
    "from PyPDF2 import PdfReader\n",
    "import matplotlib.pyplot as plt\n",
    "import re\n",
    "import os\n",
    "from langchain.text_splitter import RecursiveCharacterTextSplitter\n",
    "\n",
    "def clean_text(text: str) -> str:\n",
    "    text = re.sub(r'\\s+', ' ', text)\n",
    "    text = re.sub(r'[^\\w\\s,.!?]', '', text)\n",
    "    return text.strip()\n",
    "\n",
    "def chunk_text(text: str, chunk_size: int = 800, overlap: int = 100) -> list:\n",
    "    splitter = RecursiveCharacterTextSplitter(chunk_size=chunk_size, chunk_overlap=overlap)\n",
    "    chunks = splitter.split_text(text)\n",
    "    return chunks\n",
    "\n",
    "def plot_chunk_lengths_histogram(chunks, title=\"Distribution of Chunk Lengths\"):\n",
    "    chunk_lengths = [len(chunk.split()) for chunk in chunks]  # Calculate word count for each chunk\n",
    "    \n",
    "    plt.hist(chunk_lengths, bins=30, alpha=0.7, color='blue', edgecolor='black')\n",
    "    plt.title(title)\n",
    "    plt.xlabel('Chunk Length (Word Count)')\n",
    "    plt.ylabel('Frequency')\n",
    "    plt.show()\n",
    "\n",
    "def read_pdf(file_path: str): \n",
    "    if not os.path.isfile(file_path):\n",
    "        raise FileNotFoundError(f\"No such file: '{file_path}'\")\n",
    "\n",
    "    try:\n",
    "        pdf_reader = PdfReader(file_path)\n",
    "        extracted_text = \"\"\n",
    "        for page in pdf_reader.pages:\n",
    "            extracted_text += page.extract_text()\n",
    "            \n",
    "        # cleaned_text = clean_text(extracted_text)\n",
    "        chunks = chunk_text(extracted_text)\n",
    "        \n",
    "        return {\"chunks\": chunks}\n",
    "\n",
    "    except Exception as e:\n",
    "        raise Exception(f\"An error occurred: {str(e)}\")\n",
    "\n",
    "file_path = \"gdpr.pdf\"\n",
    "result = read_pdf(file_path)\n",
    "print(result)\n",
    "print(f\"Number of chunks: {len(result['chunks'])}\")\n",
    "for i, chunk in enumerate(result['chunks']):\n",
    "    print(f\"Chunk {i+1} length: {len(chunk.split())} words\")\n",
    "\n",
    "\n",
    "plot_chunk_lengths_histogram(result['chunks'])"
   ]
  },
  {
   "cell_type": "code",
   "execution_count": null,
   "metadata": {},
   "outputs": [],
   "source": []
  }
 ],
 "metadata": {
  "kernelspec": {
   "display_name": "chunky",
   "language": "python",
   "name": "python3"
  },
  "language_info": {
   "codemirror_mode": {
    "name": "ipython",
    "version": 3
   },
   "file_extension": ".py",
   "mimetype": "text/x-python",
   "name": "python",
   "nbconvert_exporter": "python",
   "pygments_lexer": "ipython3",
   "version": "3.9.20"
  }
 },
 "nbformat": 4,
 "nbformat_minor": 2
}
