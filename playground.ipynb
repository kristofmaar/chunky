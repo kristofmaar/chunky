{
 "cells": [
  {
   "cell_type": "code",
   "execution_count": null,
   "metadata": {},
   "outputs": [],
   "source": [
    "from PyPDF2 import PdfReader\n",
    "import re\n",
    "import os\n",
    "import pysbd\n",
    "\n",
    "def clean_text(text: str) -> str:\n",
    "    text = re.sub(r'\\s+', ' ', text)\n",
    "    text = re.sub(r'[^\\w\\s,.!?]', '', text)\n",
    "    return text.strip()\n",
    "\n",
    "def chunk_text_pysbd(text: str, chunk_size: int = 6200, overlap: int = 30) -> list:\n",
    "    segmenter = pysbd.Segmenter(language=\"en\", clean=False)\n",
    "    sentences = segmenter.segment(text)\n",
    "    chunks = []\n",
    "    current_chunk = []\n",
    "    current_length = 0\n",
    "\n",
    "    for sentence in sentences:\n",
    "        sentence_length = len(sentence.split())\n",
    "        if current_length + sentence_length > chunk_size:\n",
    "            chunks.append(' '.join(current_chunk))\n",
    "            current_chunk = current_chunk[-overlap:]  # Keep the overlap\n",
    "            current_length = len(current_chunk)\n",
    "        current_chunk.append(sentence)\n",
    "        current_length += sentence_length\n",
    "\n",
    "    if current_chunk:\n",
    "        chunks.append(' '.join(current_chunk))\n",
    "\n",
    "    return chunks\n",
    "\n",
    "def read_pdf(file_path: str):\n",
    "    if not os.path.isfile(file_path):\n",
    "        raise FileNotFoundError(f\"No such file: '{file_path}'\")\n",
    "\n",
    "    try:\n",
    "        pdf_reader = PdfReader(file_path)\n",
    "        extracted_text = \"\"\n",
    "        for page in pdf_reader.pages:\n",
    "            extracted_text += page.extract_text()\n",
    "            \n",
    "        cleaned_text = clean_text(extracted_text)\n",
    "        chunks = chunk_text_pysbd(cleaned_text)\n",
    "        \n",
    "        return {\"chunks\": chunks}\n",
    "\n",
    "    except Exception as e:\n",
    "        raise Exception(f\"An error occurred: {str(e)}\")\n",
    "\n",
    "file_path = \"mml-book.pdf\"\n",
    "result = read_pdf(file_path)\n",
    "print(result)\n",
    "print(f\"Number of chunks: {len(result['chunks'])}\")\n",
    "for i, chunk in enumerate(result['chunks']):\n",
    "    print(f\"Chunk {i+1} length: {len(chunk.split())} words\")"
   ]
  }
 ],
 "metadata": {
  "kernelspec": {
   "display_name": "chunky",
   "language": "python",
   "name": "python3"
  },
  "language_info": {
   "codemirror_mode": {
    "name": "ipython",
    "version": 3
   },
   "file_extension": ".py",
   "mimetype": "text/x-python",
   "name": "python",
   "nbconvert_exporter": "python",
   "pygments_lexer": "ipython3",
   "version": "3.9.20"
  }
 },
 "nbformat": 4,
 "nbformat_minor": 2
}
